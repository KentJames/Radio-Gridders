{
 "cells": [
  {
   "cell_type": "code",
   "execution_count": 130,
   "metadata": {
    "collapsed": true
   },
   "outputs": [],
   "source": [
    "import numpy as np\n",
    "# Symbol | Meaning\n",
    "# n_v  : Number of Visibilities\n",
    "# n_g  : Grid_size \n",
    "# n_s  : Support(Kernel) Size\n",
    "# n_sg : Sub-Grid Size (W-Towers)\n",
    "# n_c  : Number of Chunks (W-Towers)\n",
    "# n_f  : Number of Floors (W-Towers, W-Stacking)\n",
    "\n",
    "## Grid Complexity\n",
    "def flops_grid(n_v, n_s):\n",
    "    return 6 * n_v * np.square(n_s)\n",
    "    \n",
    "## Fourier Transform Complexity\n",
    "def flops_ft_wtowers(n_g, n_sg, n_c, n_f):\n",
    "    subgrid_ft_flops = 5 * n_c * n_f * np.square(n_sg) * np.log2(np.square(n_sg))\n",
    "    grid_ft_flops = 5 * np.square(n_g) * np.log2(np.square(n_g))\n",
    "    return subgrid_ft_flops + grid_ft_flops\n",
    "    \n",
    "def flops_ft_wstack(n_g, n_f):\n",
    "    return 5 * np.square(n_g) * np.log2(np.square(n_g)) * n_f\n",
    "\n",
    "def flops_ft_wproj(n_g):\n",
    "    return 5 * np.square(n_g) * np.log2(np.square(n_g))\n",
    "    \n",
    "## W-Correction Complexity\n",
    "def flops_wc_wtowers(n_sg, n_c, n_f):\n",
    "    return 6 * n_c * n_f * np.square(n_sg)\n",
    "\n",
    "def flops_wc_wstack(n_g, n_f):\n",
    "    return 6 * n_f * np.square(n_g)\n",
    "\n",
    "## W-Transfer Complexity\n",
    "def flops_wt_wtowers(n_sg,n_c):\n",
    "    return 18 * n_c * np.square(n_sg)\n",
    "\n",
    "## Reduction Complexity\n",
    "def flops_reduc_wtowers(n_sg, n_c):\n",
    "    return 2 * n_c * np.square(n_sg)\n",
    "\n",
    "def flops_reduc_wstack(n_g, n_f):\n",
    "    return 2 * n_f * np.square(n_g)\n",
    "\n",
    "## Tying it all together\n",
    "\n",
    "def calculate_flops_wtowers(n_v, n_g, n_s, n_sg, n_c, n_f):\n",
    "    return (flops_grid(n_v,n_s) + flops_ft_wtowers(n_g, n_sg, n_c, n_f)) #+ \n",
    "            #flops_wc_wtowers(n_sg, n_c, n_f) + flops_wt_wtowers(n_sg, n_c) +\n",
    "           #flops_reduc_wtowers(n_sg, n_c))\n",
    "\n",
    "def calculate_flops_wstacking(n_v, n_g, n_s, n_c, n_f):  \n",
    "    return (flops_grid(n_v,n_s) + flops_ft_wstack(n_g, n_f) + flops_wc_wstack(n_g, n_f)\n",
    "            + flops_reduc_wstack(n_g, n_f))\n",
    "    \n",
    "    \n",
    "def calculate_flops_wproj(n_v, n_g, n_s):\n",
    "    return (flops_grid(n_v, n_s) + flops_ft_wproj(n_g))\n",
    "\n",
    "#Useful later\n",
    "vflopstower = np.vectorize(calculate_flops_wtowers)\n",
    "vflopsstack = np.vectorize(calculate_flops_wstacking)\n",
    "vflopsproj = np.vectorize(calculate_flops_wproj)"
   ]
  },
  {
   "cell_type": "markdown",
   "metadata": {},
   "source": [
    "# Artifical Test Case. \n",
    "## Allows us to see how they compare head to head.\n",
    "W-Projection is the clear winner, but it is nigh impossible to parallelise. Low total flops, high barrier to effective parallelisation. Also we do not calculate complexity of variable w-kernels here, which would prove more comparable (should do this in future).\n",
    "\n",
    "W-Stacking and W-Towers almost identical, marginally higher flops(5-8%) for W-Towers. \n",
    "\n",
    "- W-Projection: Total FLOPS lowest, nightmare to parallelise.\n",
    "- W-Stacking: Excellent parallelisation opportunity along the w-axis\n",
    "- W-Towers: Even better parallelisation opportunity via u-v, due to locality benefits. Better total flops and complexity scales better for different parameters.\n",
    "\n",
    "I contend that W-Towers is a great alternative due to its strong focus on parallelisation combined with strong locality, without increasing total flop count much over W-Stacking. Indeed, it pushes the complexity into a form that is more amenable to efficient computation. Where efficiency is making an image both quickly and accurately, with minimal energy expenditure. \n",
    "\n",
    "Scaling needs to be explored."
   ]
  },
  {
   "cell_type": "code",
   "execution_count": 151,
   "metadata": {},
   "outputs": [
    {
     "name": "stdout",
     "output_type": "stream",
     "text": [
      "W-Towers chunk count: 81\n",
      "W-Towers FLOP Count     : 42944061440.000000\n",
      "W-Stacking FLOP Count   : 49508147200.000000\n",
      "W-Projection Flop Count : 1811373440.000000\n"
     ]
    }
   ],
   "source": [
    "def calculate_chunks(grid_size,subgrid_size, margin_size):\n",
    "    chunk_size = subgrid_size - margin_size\n",
    "    chunk_count_1d = np.floor(grid_size / chunk_size +1)\n",
    "    return np.square(chunk_count_1d)\n",
    "\n",
    "vis_no = 10000\n",
    "grid_size = 2048\n",
    "support_size = 16\n",
    "margin_size = np.floor((support_size + 1)/2)\n",
    "subgrid_size = 256\n",
    "\n",
    "chunks = calculate_chunks(grid_size, subgrid_size, margin_size) #Halo Management necessitates more chunks\n",
    "print(\"W-Towers chunk count: %d\" % chunks)\n",
    "floors = 100\n",
    "\n",
    "\n",
    "print(\"W-Towers FLOP Count     : %f\" % calculate_flops_wtowers(vis_no, grid_size, support_size, subgrid_size, chunks, floors))\n",
    "print(\"W-Stacking FLOP Count   : %f\" % calculate_flops_wstacking(vis_no, grid_size, support_size, chunks, floors))\n",
    "print(\"W-Projection Flop Count : %f\" % calculate_flops_wproj(vis_no, grid_size, 150))"
   ]
  },
  {
   "cell_type": "markdown",
   "metadata": {},
   "source": [
    "# FLOP Scaling as Function of Subgrid Size (W-Towers)\n",
    "\n",
    "It can be seem from the graph below that W-Towers incurs less floating point cost than W-Stacking for certain subgrid sizes. Where the subgrid size is more than $\\frac{Grid Size}{2}$ , W-Towers essentially becomes a much less efficient version of W-Stacking. In this regime, it's better to switch to W-Stacking proper.\n",
    "\n",
    "W-Towers is also very parameter dependent due to the number of chunks calculation. Note the uneven second-order response. However for small subgrid sizes $Sub Size < \\frac{Grid Size}{4} $"
   ]
  },
  {
   "cell_type": "code",
   "execution_count": 152,
   "metadata": {
    "scrolled": false
   },
   "outputs": [
    {
     "name": "stdout",
     "output_type": "stream",
     "text": [
      "[  7.39600000e+03   1.36900000e+03   5.76000000e+02   3.24000000e+02\n",
      "   1.96000000e+02   1.44000000e+02   1.00000000e+02   8.10000000e+01\n",
      "   6.40000000e+01   4.90000000e+01   3.60000000e+01   3.60000000e+01\n",
      "   3.60000000e+01   2.50000000e+01   2.50000000e+01   2.50000000e+01\n",
      "   1.60000000e+01   1.60000000e+01   1.60000000e+01   1.60000000e+01\n",
      "   1.60000000e+01   9.00000000e+00   9.00000000e+00   9.00000000e+00\n",
      "   9.00000000e+00   9.00000000e+00   9.00000000e+00   9.00000000e+00\n",
      "   9.00000000e+00   9.00000000e+00   9.00000000e+00   9.00000000e+00\n",
      "   4.00000000e+00   4.00000000e+00   4.00000000e+00   4.00000000e+00\n",
      "   4.00000000e+00   4.00000000e+00   4.00000000e+00   4.00000000e+00\n",
      "   4.00000000e+00   4.00000000e+00   4.00000000e+00   4.00000000e+00\n",
      "   4.00000000e+00   4.00000000e+00   4.00000000e+00   4.00000000e+00\n",
      "   4.00000000e+00   4.00000000e+00   4.00000000e+00   4.00000000e+00\n",
      "   4.00000000e+00   4.00000000e+00   4.00000000e+00   4.00000000e+00\n",
      "   4.00000000e+00   4.00000000e+00   4.00000000e+00   4.00000000e+00\n",
      "   4.00000000e+00   4.00000000e+00   4.00000000e+00]\n",
      "[  32   64   96  128  160  192  224  256  288  320  352  384  416  448  480\n",
      "  512  544  576  608  640  672  704  736  768  800  832  864  896  928  960\n",
      "  992 1024 1056 1088 1120 1152 1184 1216 1248 1280 1312 1344 1376 1408 1440\n",
      " 1472 1504 1536 1568 1600 1632 1664 1696 1728 1760 1792 1824 1856 1888 1920\n",
      " 1952 1984 2016]\n",
      "[  3.83442534e+10   3.41212774e+10   3.54324537e+10   3.76356454e+10\n",
      "   3.72152398e+10   4.07408697e+10   3.96509175e+10   4.29440614e+10\n",
      "   4.38460940e+10   4.22328398e+10   3.82104004e+10   4.60492857e+10\n",
      "   5.46806121e+10   4.46685175e+10   5.17804233e+10   5.94591334e+10\n",
      "   4.35056519e+10   4.91545100e+10   5.51747475e+10   6.15689214e+10\n",
      "   6.83394578e+10   4.26709444e+10   4.69066122e+10   5.13577017e+10\n",
      "   5.60253451e+10   6.09106281e+10   6.60145939e+10   7.13382465e+10\n",
      "   7.68825530e+10   8.26484468e+10   8.86368296e+10   9.48485734e+10\n",
      "   4.52801954e+10   4.82406279e+10   5.13014239e+10   5.44629260e+10\n",
      "   5.77254673e+10   6.10893715e+10   6.45549538e+10   6.81225214e+10\n",
      "   7.17923734e+10   7.55648018e+10   7.94400913e+10   8.34185200e+10\n",
      "   8.75003598e+10   9.16858761e+10   9.59753289e+10   1.00368972e+11\n",
      "   1.04867055e+11   1.09469821e+11   1.14177509e+11   1.18990352e+11\n",
      "   1.23908582e+11   1.28932421e+11   1.34062093e+11   1.39297813e+11\n",
      "   1.44639794e+11   1.50088246e+11   1.55643373e+11   1.61305379e+11\n",
      "   1.67074462e+11   1.72950817e+11   1.78934637e+11]\n"
     ]
    },
    {
     "data": {
      "image/png": "[encoded data removed]",
      "text/plain": [
       "<matplotlib.figure.Figure at 0x11105eba8>"
      ]
     },
     "metadata": {},
     "output_type": "display_data"
    }
   ],
   "source": [
    "import matplotlib.pyplot as plt\n",
    "\n",
    "def plot_flops_for_increase_subgrid(max_sg, min_sg, sg_iter,\n",
    "                                   vis_no, grid_size, support_size, floors):\n",
    "    arr_sg_size = np.arange(min_sg,max_sg,sg_iter,dtype=int)\n",
    "    margin_size = np.floor((support_size + 1)/2)\n",
    "    \n",
    "    vchunk = np.vectorize(calculate_chunks)\n",
    "    chunk_count =  vchunk(grid_size, arr_sg_size, margin_size)\n",
    "    print(chunk_count)\n",
    "    \n",
    "    flop_counts = vflopstower(vis_no, grid_size, support_size, arr_sg_size, chunk_count, floors)\n",
    "    print(arr_sg_size)\n",
    "    print(flop_counts)\n",
    "    \n",
    "    #Just gets it into a format we can plot.\n",
    "    flop_wstack = vflopsstack(vis_no, grid_size, support_size, chunk_count, floors)  \n",
    "    plt.plot(arr_sg_size,flop_counts,arr_sg_size,flop_wstack)\n",
    "    plt.show()\n",
    " \n",
    "\n",
    "plot_flops_for_increase_subgrid(2048, 32,32, vis_no, grid_size, support_size, floors)"
   ]
  },
  {
   "cell_type": "markdown",
   "metadata": {},
   "source": [
    "# FFT Scaling\n",
    "\n",
    "We can see that this oscillation with $Period \\propto N^2 $ is a result of the FFT cost in W-Towers. ~~This is because of the way in which chunks are being aligned across margins/halos (I think)~~ ~~Not right on all counts!~~\n",
    "\n",
    "Nope am right. It's because of how many chunks cover the grid at any one time. If they are a poor fit, then the worst case could be a very large grid for that amount of chunks. One can safely decrease subgrid size to a point whilst still allowing full coverage with that chunk_count. Hence the spiky nature!\n",
    "\n"
   ]
  },
  {
   "cell_type": "code",
   "execution_count": 163,
   "metadata": {
    "scrolled": false
   },
   "outputs": [
    {
     "name": "stdout",
     "output_type": "stream",
     "text": [
      "Margin Size: 8.000000\n",
      "Chunks: 7396.0, Subgrid Size: 32, Grid Size: 2048, Floors: 100\n",
      "38328893440.0\n",
      "Chunks: 7396.0, Subgrid Size: 32, Grid Size: 2048, Floors: 100\n",
      "38328893440.0\n",
      "Chunks: 1369.0, Subgrid Size: 64, Grid Size: 2048, Floors: 100\n",
      "34105917440.0\n",
      "Chunks: 576.0, Subgrid Size: 96, Grid Size: 2048, Floors: 100\n",
      "35417093738.2\n",
      "Chunks: 324.0, Subgrid Size: 128, Grid Size: 2048, Floors: 100\n",
      "37620285440.0\n",
      "Chunks: 196.0, Subgrid Size: 160, Grid Size: 2048, Floors: 100\n",
      "37199879848.9\n",
      "Chunks: 144.0, Subgrid Size: 192, Grid Size: 2048, Floors: 100\n",
      "40725509738.2\n",
      "Chunks: 100.0, Subgrid Size: 224, Grid Size: 2048, Floors: 100\n",
      "39635557496.9\n",
      "Chunks: 81.0, Subgrid Size: 256, Grid Size: 2048, Floors: 100\n",
      "42928701440.0\n",
      "Chunks: 64.0, Subgrid Size: 288, Grid Size: 2048, Floors: 100\n",
      "43830734036.5\n",
      "Chunks: 49.0, Subgrid Size: 320, Grid Size: 2048, Floors: 100\n",
      "42217479848.9\n",
      "Chunks: 36.0, Subgrid Size: 352, Grid Size: 2048, Floors: 100\n",
      "38195040389.9\n",
      "Chunks: 36.0, Subgrid Size: 384, Grid Size: 2048, Floors: 100\n",
      "46033925738.2\n",
      "Chunks: 36.0, Subgrid Size: 416, Grid Size: 2048, Floors: 100\n",
      "54665252091.1\n",
      "Chunks: 25.0, Subgrid Size: 448, Grid Size: 2048, Floors: 100\n",
      "44653157496.9\n",
      "Chunks: 25.0, Subgrid Size: 480, Grid Size: 2048, Floors: 100\n",
      "51765063270.7\n",
      "Chunks: 25.0, Subgrid Size: 512, Grid Size: 2048, Floors: 100\n",
      "59443773440.0\n",
      "Chunks: 16.0, Subgrid Size: 544, Grid Size: 2048, Floors: 100\n",
      "43490291894.2\n",
      "Chunks: 16.0, Subgrid Size: 576, Grid Size: 2048, Floors: 100\n",
      "49139150036.5\n",
      "Chunks: 16.0, Subgrid Size: 608, Grid Size: 2048, Floors: 100\n",
      "55159387461.3\n",
      "Chunks: 16.0, Subgrid Size: 640, Grid Size: 2048, Floors: 100\n",
      "61553561402.7\n",
      "Chunks: 16.0, Subgrid Size: 672, Grid Size: 2048, Floors: 100\n",
      "68324097776.8\n",
      "Chunks: 9.0, Subgrid Size: 704, Grid Size: 2048, Floors: 100\n",
      "42655584389.9\n",
      "Chunks: 9.0, Subgrid Size: 736, Grid Size: 2048, Floors: 100\n",
      "46891252196.1\n",
      "Chunks: 9.0, Subgrid Size: 768, Grid Size: 2048, Floors: 100\n",
      "51342341738.2\n",
      "Chunks: 9.0, Subgrid Size: 800, Grid Size: 2048, Floors: 100\n",
      "56009985093.1\n",
      "Chunks: 9.0, Subgrid Size: 832, Grid Size: 2048, Floors: 100\n",
      "60895268091.1\n",
      "Chunks: 9.0, Subgrid Size: 864, Grid Size: 2048, Floors: 100\n",
      "65999233947.3\n",
      "Chunks: 9.0, Subgrid Size: 896, Grid Size: 2048, Floors: 100\n",
      "71322886482.0\n",
      "Chunks: 9.0, Subgrid Size: 928, Grid Size: 2048, Floors: 100\n",
      "76867192987.8\n",
      "Chunks: 9.0, Subgrid Size: 960, Grid Size: 2048, Floors: 100\n",
      "82633086796.2\n",
      "Chunks: 9.0, Subgrid Size: 992, Grid Size: 2048, Floors: 100\n",
      "88621469581.9\n",
      "Chunks: 9.0, Subgrid Size: 1024, Grid Size: 2048, Floors: 100\n",
      "94833213440.0\n",
      "Chunks: 4.0, Subgrid Size: 1056, Grid Size: 2048, Floors: 100\n",
      "45264835362.7\n",
      "Chunks: 4.0, Subgrid Size: 1088, Grid Size: 2048, Floors: 100\n",
      "48225267894.2\n",
      "Chunks: 4.0, Subgrid Size: 1120, Grid Size: 2048, Floors: 100\n",
      "51286063905.8\n",
      "Chunks: 4.0, Subgrid Size: 1152, Grid Size: 2048, Floors: 100\n",
      "54447566036.5\n",
      "Chunks: 4.0, Subgrid Size: 1184, Grid Size: 2048, Floors: 100\n",
      "57710107269.3\n",
      "Chunks: 4.0, Subgrid Size: 1216, Grid Size: 2048, Floors: 100\n",
      "61074011461.3\n",
      "Chunks: 4.0, Subgrid Size: 1248, Grid Size: 2048, Floors: 100\n",
      "64539593829.9\n",
      "Chunks: 4.0, Subgrid Size: 1280, Grid Size: 2048, Floors: 100\n",
      "68107161402.7\n",
      "Chunks: 4.0, Subgrid Size: 1312, Grid Size: 2048, Floors: 100\n",
      "71777013431.3\n",
      "Chunks: 4.0, Subgrid Size: 1344, Grid Size: 2048, Floors: 100\n",
      "75549441776.8\n",
      "Chunks: 4.0, Subgrid Size: 1376, Grid Size: 2048, Floors: 100\n",
      "79424731264.8\n",
      "Chunks: 4.0, Subgrid Size: 1408, Grid Size: 2048, Floors: 100\n",
      "83403160017.6\n",
      "Chunks: 4.0, Subgrid Size: 1440, Grid Size: 2048, Floors: 100\n",
      "87484999762.2\n",
      "Chunks: 4.0, Subgrid Size: 1472, Grid Size: 2048, Floors: 100\n",
      "91670516117.6\n",
      "Chunks: 4.0, Subgrid Size: 1504, Grid Size: 2048, Floors: 100\n",
      "95959968863.7\n",
      "Chunks: 4.0, Subgrid Size: 1536, Grid Size: 2048, Floors: 100\n",
      "100353612192.0\n",
      "Chunks: 4.0, Subgrid Size: 1568, Grid Size: 2048, Floors: 100\n",
      "104851694943.0\n",
      "Chunks: 4.0, Subgrid Size: 1600, Grid Size: 2048, Floors: 100\n",
      "109454460823.0\n",
      "Chunks: 4.0, Subgrid Size: 1632, Grid Size: 2048, Floors: 100\n",
      "114162148616.0\n",
      "Chunks: 4.0, Subgrid Size: 1664, Grid Size: 2048, Floors: 100\n",
      "118974992375.0\n",
      "Chunks: 4.0, Subgrid Size: 1696, Grid Size: 2048, Floors: 100\n",
      "123893221609.0\n",
      "Chunks: 4.0, Subgrid Size: 1728, Grid Size: 2048, Floors: 100\n",
      "128917061453.0\n",
      "Chunks: 4.0, Subgrid Size: 1760, Grid Size: 2048, Floors: 100\n",
      "134046732834.0\n",
      "Chunks: 4.0, Subgrid Size: 1792, Grid Size: 2048, Floors: 100\n",
      "139282452626.0\n",
      "Chunks: 4.0, Subgrid Size: 1824, Grid Size: 2048, Floors: 100\n",
      "144624433791.0\n",
      "Chunks: 4.0, Subgrid Size: 1856, Grid Size: 2048, Floors: 100\n",
      "150072885525.0\n",
      "Chunks: 4.0, Subgrid Size: 1888, Grid Size: 2048, Floors: 100\n",
      "155628013383.0\n",
      "Chunks: 4.0, Subgrid Size: 1920, Grid Size: 2048, Floors: 100\n",
      "161290019407.0\n",
      "Chunks: 4.0, Subgrid Size: 1952, Grid Size: 2048, Floors: 100\n",
      "167059102241.0\n",
      "Chunks: 4.0, Subgrid Size: 1984, Grid Size: 2048, Floors: 100\n",
      "172935457248.0\n",
      "Chunks: 4.0, Subgrid Size: 2016, Grid Size: 2048, Floors: 100\n",
      "178919276611.0\n",
      "[  32   64   96  128  160  192  224  256  288  320  352  384  416  448  480\n",
      "  512  544  576  608  640  672  704  736  768  800  832  864  896  928  960\n",
      "  992 1024 1056 1088 1120 1152 1184 1216 1248 1280 1312 1344 1376 1408 1440\n",
      " 1472 1504 1536 1568 1600 1632 1664 1696 1728 1760 1792 1824 1856 1888 1920\n",
      " 1952 1984 2016]\n",
      "[  3.83288934e+10   3.41059174e+10   3.54170937e+10   3.76202854e+10\n",
      "   3.71998798e+10   4.07255097e+10   3.96355575e+10   4.29287014e+10\n",
      "   4.38307340e+10   4.22174798e+10   3.81950404e+10   4.60339257e+10\n",
      "   5.46652521e+10   4.46531575e+10   5.17650633e+10   5.94437734e+10\n",
      "   4.34902919e+10   4.91391500e+10   5.51593875e+10   6.15535614e+10\n",
      "   6.83240978e+10   4.26555844e+10   4.68912522e+10   5.13423417e+10\n",
      "   5.60099851e+10   6.08952681e+10   6.59992339e+10   7.13228865e+10\n",
      "   7.68671930e+10   8.26330868e+10   8.86214696e+10   9.48332134e+10\n",
      "   4.52648354e+10   4.82252679e+10   5.12860639e+10   5.44475660e+10\n",
      "   5.77101073e+10   6.10740115e+10   6.45395938e+10   6.81071614e+10\n",
      "   7.17770134e+10   7.55494418e+10   7.94247313e+10   8.34031600e+10\n",
      "   8.74849998e+10   9.16705161e+10   9.59599689e+10   1.00353612e+11\n",
      "   1.04851695e+11   1.09454461e+11   1.14162149e+11   1.18974992e+11\n",
      "   1.23893222e+11   1.28917061e+11   1.34046733e+11   1.39282453e+11\n",
      "   1.44624434e+11   1.50072886e+11   1.55628013e+11   1.61290019e+11\n",
      "   1.67059102e+11   1.72935457e+11   1.78919277e+11]\n"
     ]
    },
    {
     "data": {
      "image/png": "[encoded data removed]",
      "text/plain": [
       "<matplotlib.figure.Figure at 0x110b6eb70>"
      ]
     },
     "metadata": {},
     "output_type": "display_data"
    }
   ],
   "source": [
    "def _flops_ft_towers_m(grid_size, subgrid_size, margin_size, floors):\n",
    "    \n",
    "    chunk_count = calculate_chunks(grid_size, subgrid_size,margin_size)\n",
    "    print(\"Chunks: {}, Subgrid Size: {}, Grid Size: {}, Floors: {}\".format(chunk_count,subgrid_size, grid_size, floors))\n",
    "    print(flops_ft_wtowers(grid_size, subgrid_size, chunk_count, floors))\n",
    "    return flops_ft_wtowers(grid_size, subgrid_size, chunk_count, floors)\n",
    "\n",
    "\n",
    "def plot_flopsfft_for_increase_subgrid(max_sg, min_sg, sg_iter,\n",
    "                                      vis_no, grid_size, support_size, floors):\n",
    "    \n",
    "    arr_sg_size = np.arange(min_sg,max_sg,sg_iter,dtype=int)\n",
    "    margin_size = np.floor((support_size + 1)/2)\n",
    "    print(\"Margin Size: %f\" % margin_size)\n",
    "    vchunk = np.vectorize(calculate_chunks)\n",
    "    chunk_count =  vchunk(grid_size, arr_sg_size, margin_size)\n",
    "    \n",
    "    vffttowers = np.vectorize(_flops_ft_towers_m)\n",
    "    vfftstack = np.vectorize(flops_ft_wstack)\n",
    "    \n",
    "    flops_towers = vffttowers(grid_size, arr_sg_size, margin_size, floors)\n",
    "    flops_stack = np.full(flops_towers.size, flops_ft_wstack(grid_size, floors))\n",
    "    print(arr_sg_size)\n",
    "    print(flops_towers)\n",
    "    fig, ax = plt.subplots(nrows=1, ncols=2)\n",
    "    plt.subplot(211)\n",
    "    plt.plot(arr_sg_size,flops_towers, label=\"W-Towers\")\n",
    "    plt.plot(arr_sg_size,flops_stack, label=\"W-Stacking\")\n",
    "    plt.legend(bbox_to_anchor=(1.05, 1), loc=2, borderaxespad=0.)\n",
    "    plt.subplot(212)\n",
    "    plt.plot(arr_sg_size,chunk_count)\n",
    "    plt.show()\n",
    "    \n",
    "\n",
    "plot_flopsfft_for_increase_subgrid(2048, 32, 32, vis_no, grid_size, support_size, floors)"
   ]
  },
  {
   "cell_type": "code",
   "execution_count": 154,
   "metadata": {
    "scrolled": true
   },
   "outputs": [
    {
     "data": {
      "image/png": "[encoded data removed]",
      "text/plain": [
       "<matplotlib.figure.Figure at 0x11035dba8>"
      ]
     },
     "metadata": {},
     "output_type": "display_data"
    }
   ],
   "source": [
    "def wtowers_ft_sub(subg,count,floors):\n",
    "    return 5 * count * floors * np.square(subg) * np.log2(np.square(subg))\n",
    "\n",
    "def wtowers_ft_grid(grid_size):\n",
    "    return 5 * np.square(grid_size) * np.log2(np.square(subg))\n",
    "\n",
    "def plot_fft_complexity_components_towers(max_sg, min_sg, sg_iter,\n",
    "                                         vis_no, grid_size, support_size, floors):\n",
    "    \n",
    "    sg_arr = np.arange(min_sg, max_sg, sg_iter, dtype=int)\n",
    "    margin = np.floor((support_size + 1)/2)\n",
    "    vchunk = np.vectorize(calculate_chunks)\n",
    "    chunk_arr = vchunk(grid_size, sg_arr, margin)\n",
    "    \n",
    "    vwtowers_ft_sub = np.vectorize(wtowers_ft_sub)\n",
    "    vwtowers_ft_grid = np.vectorize(wtowers_ft_grid)\n",
    "    \n",
    "    fft_sub = vwtowers_ft_sub(sg_arr,chunk_arr, floors)\n",
    "    \n",
    "    plt.plot(sg_arr, fft_sub)\n",
    "    plt.show()\n",
    "    \n",
    "plot_fft_complexity_components_towers(2048, 128, 16, vis_no, grid_size, support_size, floors)\n",
    "\n"
   ]
  },
  {
   "cell_type": "markdown",
   "metadata": {},
   "source": [
    "# FLOP Scaling as a function of Floor Count\n",
    "\n",
    "As W Increases(necessitating more floors), then W-Towers scales better due to the FFT advantage (if ran with a good subgrid size as selected from previous result)\n"
   ]
  },
  {
   "cell_type": "code",
   "execution_count": 161,
   "metadata": {
    "scrolled": true
   },
   "outputs": [
    {
     "data": {
      "image/png": "[encoded data removed]",
      "text/plain": [
       "<matplotlib.figure.Figure at 0x110bbb7f0>"
      ]
     },
     "metadata": {},
     "output_type": "display_data"
    }
   ],
   "source": [
    "def plot_flops_for_increase_floors(min_floor, max_floor, floor_iter,\n",
    "                                  vis_no, grid_size, support_size, subgrid_size):\n",
    "    \n",
    "    arr_floors = np.arange(min_floor, max_floor, floor_iter)\n",
    "    margin_size = ((support_size +1)/2)\n",
    "    chunk_count = calculate_chunks(grid_size,margin_size ,subgrid_size)\n",
    "    \n",
    "    flops_towers = vflopstower(vis_no, grid_size, support_size, subgrid_size, chunk_count, arr_floors)\n",
    "    flops_wstack = vflopsstack(vis_no, grid_size, support_size, chunk_count, arr_floors)\n",
    "    \n",
    "    plt.plot(arr_floors,flops_towers, label = \"W-Towers\")\n",
    "    plt.plot(arr_floors,flops_wstack, label = \"W-Stacking\")\n",
    "    plt.legend(bbox_to_anchor=(1.05, 1), loc=2, borderaxespad=0.)\n",
    "    plt.show()\n",
    "    \n",
    "plot_flops_for_increase_floors(1, 100, 1, vis_no, grid_size, support_size, 128)"
   ]
  },
  {
   "cell_type": "code",
   "execution_count": null,
   "metadata": {
    "collapsed": true
   },
   "outputs": [],
   "source": []
  },
  {
   "cell_type": "code",
   "execution_count": null,
   "metadata": {
    "collapsed": true
   },
   "outputs": [],
   "source": []
  }
 ],
 "metadata": {
  "kernelspec": {
   "display_name": "Python 3",
   "language": "python",
   "name": "python3"
  },
  "language_info": {
   "codemirror_mode": {
    "name": "ipython",
    "version": 3
   },
   "file_extension": ".py",
   "mimetype": "text/x-python",
   "name": "python",
   "nbconvert_exporter": "python",
   "pygments_lexer": "ipython3",
   "version": "3.6.1"
  }
 },
 "nbformat": 4,
 "nbformat_minor": 2
}
